{
 "cells": [
  {
   "cell_type": "code",
   "execution_count": 1,
   "metadata": {},
   "outputs": [
    {
     "name": "stdout",
     "output_type": "stream",
     "text": [
      "hello here we are looking into some random examples of python that are super random\n"
     ]
    }
   ],
   "source": [
    "with open('simple.txt', mode='r') as file:\n",
    "    content = file.read()\n",
    "    print(content)"
   ]
  },
  {
   "cell_type": "code",
   "execution_count": 12,
   "metadata": {},
   "outputs": [
    {
     "name": "stdout",
     "output_type": "stream",
     "text": [
      "hello world\n",
      "im learning somethingthis is something new\n",
      "wow this is amazing\n",
      "this line is awesome\n"
     ]
    }
   ],
   "source": [
    "# read file line by line\n",
    "\n",
    "with open('simple.txt',mode='r') as file:\n",
    "    for line in file:\n",
    "        print(line.strip())\n",
    "\n",
    "# .strip() removes the new line character "
   ]
  },
  {
   "cell_type": "code",
   "execution_count": 8,
   "metadata": {},
   "outputs": [],
   "source": [
    "# writing a file (overwriting = w)\n",
    "\n",
    "with open('simple.txt', mode='w') as file:\n",
    "    file.write('hello world\\n')\n",
    "    file.write('im learning something')\n",
    "\n",
    "# this type of mode is overwrting the whole file"
   ]
  },
  {
   "cell_type": "code",
   "execution_count": 9,
   "metadata": {},
   "outputs": [],
   "source": [
    "# writing without overwriting the file (appending = a)\n",
    "\n",
    "with open('simple.txt','a') as file:\n",
    "    file.write('this is something new\\n')"
   ]
  },
  {
   "cell_type": "code",
   "execution_count": 11,
   "metadata": {},
   "outputs": [],
   "source": [
    "# writing list of lines to a file\n",
    "\n",
    "lines = ['wow this is amazing\\n', 'this line is awesome\\n']\n",
    "\n",
    "with open('simple.txt','a') as file:\n",
    "    file.writelines(lines)"
   ]
  },
  {
   "cell_type": "markdown",
   "metadata": {},
   "source": [
    "# binary files"
   ]
  },
  {
   "cell_type": "code",
   "execution_count": 13,
   "metadata": {},
   "outputs": [],
   "source": [
    "# writing to binary files\n",
    "\n",
    "data = b'\\x00\\x01\\x02\\x03'\n",
    "\n",
    "with open('example.bin', 'wb') as file:\n",
    "    file.write(data)\n",
    "\n",
    "# we are using wb - write bite, mode"
   ]
  },
  {
   "cell_type": "code",
   "execution_count": 14,
   "metadata": {},
   "outputs": [
    {
     "name": "stdout",
     "output_type": "stream",
     "text": [
      "b'\\x00\\x01\\x02\\x03'\n"
     ]
    }
   ],
   "source": [
    "# reading \n",
    "\n",
    "with open('example.bin', 'rb') as file:\n",
    "    content = file.read()\n",
    "    print(content)\n",
    "\n",
    "# rb - read bite mode"
   ]
  },
  {
   "cell_type": "code",
   "execution_count": 15,
   "metadata": {},
   "outputs": [],
   "source": [
    "# reading and writing across different files\n",
    "\n",
    "with open('simple.txt', 'r') as source_file:\n",
    "    data = source_file.read()\n",
    "\n",
    "with open('destination.txt','a') as target_file:\n",
    "    target_file.write(data)\n",
    "\n"
   ]
  },
  {
   "cell_type": "code",
   "execution_count": 31,
   "metadata": {},
   "outputs": [
    {
     "name": "stdout",
     "output_type": "stream",
     "text": [
      "file has 4 lines, 16 words and 92 characters in total\n"
     ]
    }
   ],
   "source": [
    "#Read a text file and count the number of lines, words, and characters.\n",
    "\n",
    "with open('simple.txt', 'r') as file:\n",
    "    lines = file.readlines()\n",
    "    lines_cnt = len(lines)\n",
    "    words_cnt = sum(len(line.split()) for line in lines)\n",
    "    chr_cnt = sum(len(line.strip()) for line in lines)\n",
    "\n",
    "print(f'file has {lines_cnt} lines, {words_cnt} words and {chr_cnt} characters in total')"
   ]
  },
  {
   "cell_type": "code",
   "execution_count": 33,
   "metadata": {},
   "outputs": [
    {
     "name": "stdout",
     "output_type": "stream",
     "text": [
      "this is a new line\n",
      "hello world\n",
      "\n"
     ]
    }
   ],
   "source": [
    "# writing and reading the file \n",
    "# w+ is used to overwrite the file \n",
    "\n",
    "with open('simple.txt', 'w+') as file:\n",
    "    file.write('this is a new line\\n')\n",
    "    file.write('hello world\\n')\n",
    "\n",
    "    # move the file cursor\n",
    "    file.seek(0)\n",
    "\n",
    "    content = file.read()\n",
    "    print(content)"
   ]
  },
  {
   "cell_type": "code",
   "execution_count": 2,
   "metadata": {},
   "outputs": [
    {
     "name": "stdout",
     "output_type": "stream",
     "text": [
      "/Users/domasbelickas/git_repos/GenAI/basics\n"
     ]
    }
   ],
   "source": [
    "import os \n",
    "\n",
    "# getting current working directory\n",
    "cwd = os.getcwd()\n",
    "print(cwd)"
   ]
  },
  {
   "cell_type": "code",
   "execution_count": 3,
   "metadata": {},
   "outputs": [
    {
     "name": "stdout",
     "output_type": "stream",
     "text": [
      "['0_basic.ipynb', 'destination.txt', '5_loops.ipynb', '9_file_handling.ipynb', 'test.csv', '4_conditional.ipynb', '6_datastructures.ipynb', 'test_dir', '7_functions.ipynb', 'example.bin', '2_datatypes.ipynb', '1_variables.ipynb', 'simple.txt', '3_operators.ipynb', 'package', '8_modules_packages.ipynb']\n"
     ]
    }
   ],
   "source": [
    "# listing all of the files in current directory\n",
    "items = os.listdir()\n",
    "print(items)"
   ]
  },
  {
   "cell_type": "code",
   "execution_count": 4,
   "metadata": {},
   "outputs": [
    {
     "data": {
      "text/plain": [
       "'/Users/domasbelickas/git_repos/GenAI/basics/test_dir/destination.txt'"
      ]
     },
     "execution_count": 4,
     "metadata": {},
     "output_type": "execute_result"
    }
   ],
   "source": [
    "import shutil\n",
    "# joining paths\n",
    "\n",
    "dir_name = 'test_dir'\n",
    "file_name = 'destination.txt'\n",
    "\n",
    "source_path = os.path.join(os.getcwd(),file_name)\n",
    "target_path = os.path.join(os.getcwd(),dir_name,file_name)\n",
    "\n",
    "shutil.move(source_path, target_path)\n"
   ]
  },
  {
   "cell_type": "code",
   "execution_count": 13,
   "metadata": {},
   "outputs": [
    {
     "name": "stdout",
     "output_type": "stream",
     "text": [
      "True\n",
      "False\n"
     ]
    }
   ],
   "source": [
    "random_file = 'example.bin'\n",
    "random_dir = 'package1'\n",
    "\n",
    "if_exits = lambda x: os.path.isfile(x)\n",
    "if_dir = lambda x: os.path.isdir(x)\n",
    "\n",
    "print(if_exits(random_file))\n",
    "print(if_dir(random_dir))\n",
    "# if no print is present, you will see only the last lines bool value"
   ]
  },
  {
   "cell_type": "code",
   "execution_count": 17,
   "metadata": {},
   "outputs": [
    {
     "name": "stdout",
     "output_type": "stream",
     "text": [
      "/Users/domasbelickas/git_repos/GenAI/basics/venv\n"
     ]
    }
   ],
   "source": [
    "abs_path = os.path.abspath('venv')\n",
    "print(abs_path)"
   ]
  },
  {
   "cell_type": "markdown",
   "metadata": {},
   "source": [
    "# Exceptions\n",
    "\n",
    "Exceptions are events that disrupt the normal flow of program. They occur when an error is encountered during the exection. Some common exceptions include:\n",
    "\n",
    "- ZeroDivisionError : division by zero;\n",
    "- FileNotFoundError : file not found;\n",
    "- ValueError : value is not valid;\n",
    "- TypeError : invalid type;"
   ]
  },
  {
   "cell_type": "code",
   "execution_count": 1,
   "metadata": {},
   "outputs": [
    {
     "name": "stdout",
     "output_type": "stream",
     "text": [
      "variables was not defined\n"
     ]
    }
   ],
   "source": [
    "try:\n",
    "    a=b\n",
    "except:\n",
    "    print('variables was not defined')"
   ]
  },
  {
   "cell_type": "code",
   "execution_count": 2,
   "metadata": {},
   "outputs": [
    {
     "ename": "NameError",
     "evalue": "name 'b' is not defined",
     "output_type": "error",
     "traceback": [
      "\u001b[0;31m---------------------------------------------------------------------------\u001b[0m",
      "\u001b[0;31mNameError\u001b[0m                                 Traceback (most recent call last)",
      "Cell \u001b[0;32mIn[2], line 1\u001b[0m\n\u001b[0;32m----> 1\u001b[0m a\u001b[39m=\u001b[39mb\n",
      "\u001b[0;31mNameError\u001b[0m: name 'b' is not defined"
     ]
    }
   ],
   "source": [
    "a=b"
   ]
  },
  {
   "cell_type": "code",
   "execution_count": 3,
   "metadata": {},
   "outputs": [
    {
     "name": "stdout",
     "output_type": "stream",
     "text": [
      "name 'b' is not defined\n"
     ]
    }
   ],
   "source": [
    "try:\n",
    "    a=b\n",
    "except NameError as ex:\n",
    "    print(ex)"
   ]
  },
  {
   "cell_type": "code",
   "execution_count": 10,
   "metadata": {},
   "outputs": [
    {
     "name": "stdout",
     "output_type": "stream",
     "text": [
      "name 'b' is not defined\n",
      "main exception was caught here\n"
     ]
    }
   ],
   "source": [
    "try:\n",
    "    a=1\n",
    "    result = a+b/0\n",
    "except ZeroDivisionError as ex:\n",
    "    print(ex)\n",
    "    print('Please enter denominator a non zero value')\n",
    "# this is parent class of exceptions, thus it has to be written in the last place\n",
    "except Exception as ex1:\n",
    "    print(ex1)\n",
    "    print('main exception was caught here')"
   ]
  },
  {
   "cell_type": "code",
   "execution_count": 16,
   "metadata": {},
   "outputs": [],
   "source": [
    "try:\n",
    "    num = int(input('enter a number'))\n",
    "    result = 10/num\n",
    "except ValueError as ex:\n",
    "    print('This is not a valid number')\n",
    "except ZeroDivisionError as ex:\n",
    "    print('enter a denominator, which is not a zero')\n",
    "except Exception as ex:\n",
    "    print(ex)"
   ]
  },
  {
   "cell_type": "code",
   "execution_count": 20,
   "metadata": {},
   "outputs": [
    {
     "name": "stdout",
     "output_type": "stream",
     "text": [
      "the calculated result was 2.5\n"
     ]
    }
   ],
   "source": [
    "# try, except with else\n",
    "\n",
    "try: \n",
    "    num = int(input('enter a number'))\n",
    "    result = 10/num\n",
    "except ValueError as ex:\n",
    "    print('only an integer is acceptable')\n",
    "except ZeroDivisionError:\n",
    "    print('denominator should be not equal to zero')\n",
    "except Exception as ex1:\n",
    "    print(ex1)\n",
    "else:\n",
    "    print(f'the calculated result was {result}')"
   ]
  },
  {
   "cell_type": "code",
   "execution_count": 21,
   "metadata": {},
   "outputs": [
    {
     "name": "stdout",
     "output_type": "stream",
     "text": [
      "the calculated result was 10.0\n",
      "execution was completed\n"
     ]
    }
   ],
   "source": [
    "# try, except with else with addition of finally\n",
    "\n",
    "try: \n",
    "    num = int(input('enter a number'))\n",
    "    result = 10/num\n",
    "except ValueError as ex:\n",
    "    print('only an integer is acceptable')\n",
    "except ZeroDivisionError:\n",
    "    print('denominator should be not equal to zero')\n",
    "except Exception as ex1:\n",
    "    print(ex1)\n",
    "else:\n",
    "    print(f'the calculated result was {result}')\n",
    "finally:\n",
    "    print('execution was completed')"
   ]
  },
  {
   "cell_type": "code",
   "execution_count": 23,
   "metadata": {},
   "outputs": [
    {
     "name": "stdout",
     "output_type": "stream",
     "text": [
      "name 'b' is not defined\n",
      "file closed\n"
     ]
    }
   ],
   "source": [
    "# file handaling and exception handlings\n",
    "\n",
    "try:\n",
    "    with open('simple.txt','r') as file:\n",
    "        data = file.read()\n",
    "        a=b\n",
    "        print(data)\n",
    "except FileNotFoundError as ex1:\n",
    "    print(ex1)\n",
    "except Exception as ex2:\n",
    "    print(ex2)\n",
    "\n",
    "finally:\n",
    "    if 'file' in locals() or not file.closed():\n",
    "        file.close()\n",
    "        print('file closed')"
   ]
  },
  {
   "cell_type": "code",
   "execution_count": 26,
   "metadata": {},
   "outputs": [
    {
     "data": {
      "text/plain": [
       "True"
      ]
     },
     "execution_count": 26,
     "metadata": {},
     "output_type": "execute_result"
    }
   ],
   "source": [
    "'file' in locals()"
   ]
  },
  {
   "cell_type": "code",
   "execution_count": 25,
   "metadata": {},
   "outputs": [
    {
     "ename": "TypeError",
     "evalue": "'bool' object is not callable",
     "output_type": "error",
     "traceback": [
      "\u001b[0;31m---------------------------------------------------------------------------\u001b[0m",
      "\u001b[0;31mTypeError\u001b[0m                                 Traceback (most recent call last)",
      "Cell \u001b[0;32mIn[25], line 1\u001b[0m\n\u001b[0;32m----> 1\u001b[0m file\u001b[39m.\u001b[39;49mclosed()\n",
      "\u001b[0;31mTypeError\u001b[0m: 'bool' object is not callable"
     ]
    }
   ],
   "source": [
    "file.closed()"
   ]
  }
 ],
 "metadata": {
  "kernelspec": {
   "display_name": "venv",
   "language": "python",
   "name": "python3"
  },
  "language_info": {
   "codemirror_mode": {
    "name": "ipython",
    "version": 3
   },
   "file_extension": ".py",
   "mimetype": "text/x-python",
   "name": "python",
   "nbconvert_exporter": "python",
   "pygments_lexer": "ipython3",
   "version": "3.11.5"
  },
  "orig_nbformat": 4
 },
 "nbformat": 4,
 "nbformat_minor": 2
}
