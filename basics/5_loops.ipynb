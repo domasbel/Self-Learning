{
 "cells": [
  {
   "cell_type": "markdown",
   "metadata": {},
   "source": [
    "# Loops\n",
    "\n",
    "### Video outline:\n",
    "1. intro\n",
    "2. for loops\n",
    "   - iterating over numbers\n",
    "   - iterating over strings\n",
    "3. while loop\n",
    "4. loop control statements\n",
    "   - break\n",
    "   - continue \n",
    "   - pass\n",
    "5. nested loops\n",
    "6. practical examples  "
   ]
  },
  {
   "cell_type": "code",
   "execution_count": 1,
   "metadata": {},
   "outputs": [
    {
     "data": {
      "text/plain": [
       "range(0, 5)"
      ]
     },
     "execution_count": 1,
     "metadata": {},
     "output_type": "execute_result"
    }
   ],
   "source": [
    "range(5)"
   ]
  },
  {
   "cell_type": "code",
   "execution_count": 2,
   "metadata": {},
   "outputs": [
    {
     "name": "stdout",
     "output_type": "stream",
     "text": [
      "0\n",
      "1\n",
      "2\n",
      "3\n",
      "4\n"
     ]
    }
   ],
   "source": [
    "# simple for loop\n",
    "\n",
    "for i in range(5):\n",
    "    print(i)"
   ]
  },
  {
   "cell_type": "code",
   "execution_count": 8,
   "metadata": {},
   "outputs": [
    {
     "name": "stdout",
     "output_type": "stream",
     "text": [
      "1\n",
      "-2\n",
      "-5\n",
      "-8\n"
     ]
    }
   ],
   "source": [
    "for i in range(1,-10,-3):\n",
    "    print(i)"
   ]
  },
  {
   "cell_type": "code",
   "execution_count": 9,
   "metadata": {},
   "outputs": [
    {
     "name": "stdout",
     "output_type": "stream",
     "text": [
      "d\n",
      "o\n",
      "m\n",
      "a\n",
      "s\n"
     ]
    }
   ],
   "source": [
    "name = 'domas'\n",
    "\n",
    "for i in name:\n",
    "    print(i)"
   ]
  },
  {
   "cell_type": "code",
   "execution_count": 12,
   "metadata": {},
   "outputs": [
    {
     "name": "stdout",
     "output_type": "stream",
     "text": [
      "0\n",
      "1\n",
      "2\n",
      "3\n",
      "4\n",
      "5\n",
      "6\n",
      "7\n",
      "8\n"
     ]
    }
   ],
   "source": [
    "count=0\n",
    "\n",
    "while count<9:\n",
    "    print(count)\n",
    "    count= count+1"
   ]
  },
  {
   "cell_type": "code",
   "execution_count": 17,
   "metadata": {},
   "outputs": [
    {
     "name": "stdout",
     "output_type": "stream",
     "text": [
      "1\n",
      "2\n",
      "3\n",
      "4\n",
      "5\n"
     ]
    }
   ],
   "source": [
    "for cnt in range(1,10):\n",
    "    print(cnt)\n",
    "    if cnt == 5:\n",
    "        break"
   ]
  },
  {
   "cell_type": "code",
   "execution_count": 21,
   "metadata": {},
   "outputs": [
    {
     "name": "stdout",
     "output_type": "stream",
     "text": [
      "2\n",
      "3\n",
      "4\n",
      "5\n",
      "6\n",
      "7\n",
      "8\n",
      "9\n",
      "10\n",
      "11\n",
      "doing something\n",
      "12\n",
      "doing something\n",
      "13\n",
      "doing something\n",
      "14\n"
     ]
    }
   ],
   "source": [
    "for f in range(2,15):\n",
    "    if f > 11:\n",
    "        pass\n",
    "        print('doing something')\n",
    "    print(f)"
   ]
  },
  {
   "cell_type": "code",
   "execution_count": 23,
   "metadata": {},
   "outputs": [
    {
     "name": "stdout",
     "output_type": "stream",
     "text": [
      "i - 0, j - 0\n",
      "i - 0, j - 1\n",
      "i - 1, j - 0\n",
      "i - 1, j - 1\n",
      "i - 2, j - 0\n",
      "i - 2, j - 1\n"
     ]
    }
   ],
   "source": [
    "for i in range(3):\n",
    "    for j in range(2):\n",
    "        #print('i:',i,'j:',j)\n",
    "        print(f'i - {i}, j - {j}')"
   ]
  },
  {
   "cell_type": "code",
   "execution_count": 25,
   "metadata": {},
   "outputs": [
    {
     "name": "stdout",
     "output_type": "stream",
     "text": [
      "sum of first 5 numbers is 15\n"
     ]
    }
   ],
   "source": [
    "# examples - calculate the sum of first n natural number\n",
    "\n",
    "n = int(input('input the number till whihc we want to sum'))\n",
    "sum = 0\n",
    "count = 1\n",
    "\n",
    "while count <= n:\n",
    "    sum = sum+count\n",
    "    count = count + 1\n",
    "\n",
    "print(f'sum of first {n} numbers is {sum}')"
   ]
  },
  {
   "cell_type": "code",
   "execution_count": 29,
   "metadata": {},
   "outputs": [
    {
     "name": "stdout",
     "output_type": "stream",
     "text": [
      "0\n",
      "1\n",
      "3\n",
      "6\n",
      "10\n",
      "15\n",
      "sum of first 5 numbers is 15\n"
     ]
    }
   ],
   "source": [
    "n = int(input('input the number till whihc we want to sum'))\n",
    "sum = 0\n",
    "count = 1\n",
    "\n",
    "for i in range(n+1):\n",
    "    sum = sum + i \n",
    "    print(sum)\n",
    "\n",
    "print(f'sum of first {n} numbers is {sum}')"
   ]
  },
  {
   "cell_type": "code",
   "execution_count": 33,
   "metadata": {},
   "outputs": [
    {
     "name": "stdout",
     "output_type": "stream",
     "text": [
      "2\n",
      "3\n",
      "5\n",
      "7\n",
      "11\n",
      "13\n",
      "17\n",
      "19\n",
      "23\n",
      "29\n",
      "31\n",
      "37\n",
      "41\n",
      "43\n",
      "47\n",
      "53\n",
      "59\n",
      "61\n",
      "67\n",
      "71\n",
      "73\n",
      "79\n",
      "83\n",
      "89\n",
      "97\n"
     ]
    }
   ],
   "source": [
    "# show prime numbers from 1 to 100\n",
    "\n",
    "\n",
    "for i in range(1,101):\n",
    "    if i>1:\n",
    "        for j in range(2,i):\n",
    "            if i%j==0:\n",
    "                break\n",
    "        else:\n",
    "            print(i)"
   ]
  },
  {
   "cell_type": "code",
   "execution_count": null,
   "metadata": {},
   "outputs": [],
   "source": []
  }
 ],
 "metadata": {
  "kernelspec": {
   "display_name": "venv",
   "language": "python",
   "name": "python3"
  },
  "language_info": {
   "codemirror_mode": {
    "name": "ipython",
    "version": 3
   },
   "file_extension": ".py",
   "mimetype": "text/x-python",
   "name": "python",
   "nbconvert_exporter": "python",
   "pygments_lexer": "ipython3",
   "version": "3.12.7"
  },
  "orig_nbformat": 4
 },
 "nbformat": 4,
 "nbformat_minor": 2
}
